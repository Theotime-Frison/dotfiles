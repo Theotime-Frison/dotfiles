{
  "cells": [
    {
      "cell_type": "markdown",
      "metadata": {
        "id": "view-in-github",
        "colab_type": "text"
      },
      "source": [
        "<a href=\"https://colab.research.google.com/github/Theotime-Frison/dotfiles/blob/master/cifar_classification.ipynb\" target=\"_parent\"><img src=\"https://colab.research.google.com/assets/colab-badge.svg\" alt=\"Open In Colab\"/></a>"
      ]
    },
    {
      "cell_type": "markdown",
      "metadata": {
        "id": "pckQfL8oZhbN"
      },
      "source": [
        "# CIFAR10 Classification Problem"
      ]
    },
    {
      "cell_type": "markdown",
      "metadata": {
        "id": "eEt4AJqKVj0v"
      },
      "source": [
        "🎯 **Exercise objectives**\n",
        "\n",
        "* 1️⃣ Implement a CNN to solve a **`10-class classification problem`**\n",
        "\n",
        "* 2️⃣ Enhance the CNN's performance with **`Data Augmentation Techniques`**\n",
        "\n",
        "* 3️⃣ Experiment with **`GPUs to Accelerate Image Processing using Google Colab`**\n",
        "\n",
        "<hr>\n",
        "\n",
        "\n",
        "👏 You should now have a better feeling of:\n",
        "* how CNNs works,\n",
        "* and especially how convolutions scan images to detect specific spatial features.\n",
        "\n",
        "🚀 It's time to play with images that are a bit more complex than the handwritten digits or the triangles/circles.\n",
        "\n",
        "🎨 From [Wikipedia](https://en.wikipedia.org/wiki/CIFAR-10) (*click on the link for further information*):\n",
        "\n",
        "> The **`CIFAR-10`** dataset (Canadian Institute For Advanced Research) is a collection of images that are commonly used to train machine learning and computer vision algorithms. It is one of the most widely used datasets for machine learning research. The CIFAR-10 dataset contains 60,000 32x32 color images in 10 different classes. The 10 different classes represent airplanes, cars, birds, cats, deer, dogs, frogs, horses, ships, and trucks. There are 6,000 images of each class.\n",
        "\n",
        "<img src=\"https://people.minesparis.psl.eu/fabien.moutarde/ES_MachineLearning/mini-projets/cifar10_notebook_fichiers/cifar_10.png\">\n",
        "\n",
        "⭐️ This dataset is iconic in the research community as many enhancements for image recognition have been achieved on this dataset. After achieving great performance on this dataset, researchers moved to the more advanced CIFAR-100.\n",
        "\n",
        "From the [University of Toronto](https://www.cs.toronto.edu/~kriz/cifar.html):\n",
        "\n",
        "> This dataset is just like the CIFAR-10, except it has 100 classes containing 600 images each. There are 500 training images and 100 testing images per class. The 100 classes in the CIFAR-100 are grouped into 20 superclasses. Each image comes with a \"fine\" label (the class to which it belongs) and a \"coarse\" label (the superclass to which it belongs).\n",
        "\n",
        "\n",
        "🔥 In this notebook, let's ***implement a CNN to distinguish the 10 categories from the CIFAR-10 dataset***.\n",
        "\n",
        "❗️ Again, remember that until 10 years ago, this problem was very challenging for the entire research community. As you have been sharpening your CNN skills, it is time to shine!"
      ]
    },
    {
      "cell_type": "markdown",
      "metadata": {
        "id": "0rMQW1hVZhbT"
      },
      "source": [
        "## 🛠 Google Colab Setup"
      ]
    },
    {
      "cell_type": "markdown",
      "metadata": {
        "id": "CFWUX30r5wvo"
      },
      "source": [
        "If you are planning to use Google Colab (which is strongly recommended for this challenge), there is a few things you need to take care of first so that you can run everything properly.\n",
        "\n",
        "* If you want to get started, follow these four steps.\n",
        "* You can also read Davy's tutorial on Kitt 👉 [Introduction to Google Colab](https://kitt.lewagon.com/knowledge/tutorials/data_google_colab)"
      ]
    },
    {
      "cell_type": "markdown",
      "metadata": {
        "id": "i6wVRDoPHetx"
      },
      "source": [
        "### Step 1: Upload the Challenge Folder to Google Drive and Open it in Colab"
      ]
    },
    {
      "cell_type": "markdown",
      "metadata": {
        "id": "ieSm6iw9HizE"
      },
      "source": [
        "If you want Google Colab to be able to run this notebook, you need to ***upload all the necessary files to your Google Drive***.\n",
        "\n",
        "To do this, simply:\n",
        "1. Access your [Google Drive](https://drive.google.com/)\n",
        "2. Go into the `Colab Notebooks folder`\n",
        "3. Drag-and-drop this `challenge's folder` into it\n",
        "4. Right-click the notebook file and select `Open with` $\\rightarrow$ `Google Colaboratory`"
      ]
    },
    {
      "cell_type": "markdown",
      "metadata": {
        "id": "Ur5KjRNA4cNR"
      },
      "source": [
        "### Step 2: Mount Google Drive"
      ]
    },
    {
      "cell_type": "markdown",
      "metadata": {
        "id": "FxIuwYAoG0TO"
      },
      "source": [
        "The previous was necessary but not enough. For security purposes, Google Colab and Google Drive are NOT connected even if they belong to the same Google Account\n",
        "\n",
        "We need to ***mount the main directory of the Google Drive associated with the account being used for Colab***.\n",
        "\n",
        "*Note: if you're getting errors when authenticating, try to do it in Google Chrome, as other browsers tend to experience issues.*"
      ]
    },
    {
      "cell_type": "code",
      "execution_count": 1,
      "metadata": {
        "colab": {
          "base_uri": "https://localhost:8080/"
        },
        "id": "_q8uOTzh5vwJ",
        "outputId": "618079f5-93e1-4bc2-f4b5-09349366b63c"
      },
      "outputs": [
        {
          "output_type": "stream",
          "name": "stdout",
          "text": [
            "Mounted at /content/drive\n"
          ]
        }
      ],
      "source": [
        "from google.colab import drive\n",
        "drive.mount('/content/drive')"
      ]
    },
    {
      "cell_type": "markdown",
      "metadata": {
        "id": "tle_V6z6G9Mx"
      },
      "source": [
        "⬅️ On the left sidebar, there is a 🗂 folder icon.\n",
        "* If you click on it, you should now see a folder called `drive/MyDrive`. This is your Google Drive and all its content!"
      ]
    },
    {
      "cell_type": "markdown",
      "metadata": {
        "id": "y9tSxSyJIeK3"
      },
      "source": [
        "### Step 3: Navigate to the Challenge Directory"
      ]
    },
    {
      "cell_type": "markdown",
      "metadata": {
        "id": "A6v8XQ2IIjZp"
      },
      "source": [
        "One more thing: we need to  this notebook in the context of the challenge's folder.\n",
        "\n",
        "Simply run the cell down below."
      ]
    },
    {
      "cell_type": "code",
      "execution_count": 2,
      "metadata": {
        "id": "7HCO04lsIrcd"
      },
      "outputs": [],
      "source": [
        "import os\n",
        "\n",
        "# os.chdir allows you to change directories, like cd in the Terminal\n",
        "os.chdir('/content/drive/MyDrive/Colab Notebooks/data-cifar-classification')"
      ]
    },
    {
      "cell_type": "markdown",
      "metadata": {
        "id": "l0_I4eSaJuNy"
      },
      "source": [
        "### Step 4: Toggle GPU Acceleration"
      ]
    },
    {
      "cell_type": "markdown",
      "metadata": {
        "id": "x4awrOZ6JxWs"
      },
      "source": [
        "As a last step, we should take advantage of Google Colab by enabling GPU acceleration for our notebook.\n",
        "\n",
        "You can do it by navigating through the menu bar:\n",
        "\n",
        "`Runtime` $\\rightarrow$ `Change runtime type` $\\rightarrow$ `Hardware accelerator`\n",
        "\n",
        "and select \"GPU\" from the dropdown menu."
      ]
    },
    {
      "cell_type": "markdown",
      "metadata": {
        "id": "Z0MdAwhGJdSR"
      },
      "source": [
        "🚀 You are now ready to start, proceed with the challenge! 🚀"
      ]
    },
    {
      "cell_type": "markdown",
      "metadata": {
        "id": "ZY44N5e6T2Il"
      },
      "source": [
        "## (1) Loading the CIFAR10 Dataset"
      ]
    },
    {
      "cell_type": "markdown",
      "metadata": {
        "id": "lOWsFV-nZhba"
      },
      "source": [
        "❓ **Question: Loading the CIFAR10 Dataset** ❓\n",
        "\n",
        "\n",
        "* 🎁 We took care of the `data loading and preprocessing` for you.\n",
        "* ▶️ Just run the following cell and make sure you understand the code."
      ]
    },
    {
      "cell_type": "code",
      "execution_count": 3,
      "metadata": {
        "id": "ZkKdhZXWVj00",
        "colab": {
          "base_uri": "https://localhost:8080/"
        },
        "outputId": "bea1fcc7-02b2-4059-81b7-00948f4614c2"
      },
      "outputs": [
        {
          "output_type": "stream",
          "name": "stdout",
          "text": [
            "Downloading data from https://www.cs.toronto.edu/~kriz/cifar-10-python.tar.gz\n",
            "170498071/170498071 [==============================] - 13s 0us/step\n",
            "(50000, 32, 32, 3) (10000, 32, 32, 3)\n"
          ]
        },
        {
          "output_type": "execute_result",
          "data": {
            "text/plain": [
              "{0: 5000,\n",
              " 1: 5000,\n",
              " 2: 5000,\n",
              " 3: 5000,\n",
              " 4: 5000,\n",
              " 5: 5000,\n",
              " 6: 5000,\n",
              " 7: 5000,\n",
              " 8: 5000,\n",
              " 9: 5000}"
            ]
          },
          "metadata": {},
          "execution_count": 3
        }
      ],
      "source": [
        "from tensorflow.keras.datasets import cifar10\n",
        "import numpy as np\n",
        "\n",
        "(images_train, labels_train), (images_test, labels_test) = cifar10.load_data()\n",
        "\n",
        "labels = ['airplane',\n",
        "          'automobile',\n",
        "          'bird',\n",
        "          'cat',\n",
        "          'deer',\n",
        "          'dog',\n",
        "          'frog',\n",
        "          'horse',\n",
        "          'ship',\n",
        "          'truck']\n",
        "\n",
        "print(images_train.shape, images_test.shape)\n",
        "unique, counts = np.unique(labels_train, return_counts=True)\n",
        "dict(zip(unique, counts))"
      ]
    },
    {
      "cell_type": "markdown",
      "metadata": {
        "id": "18zIIeggZhbb"
      },
      "source": [
        "### (1.1) Working on a smaller dataset?"
      ]
    },
    {
      "cell_type": "markdown",
      "metadata": {
        "id": "ZI_3K-MHT2In"
      },
      "source": [
        "❓ **Question about the training size** ❓\n",
        "\n",
        "* It will probably take a very long time to train a model on $50 000$ images m...\n",
        "* 👨🏻‍🏫 **Always start with a subsample to iterate quickly** before scaling up! 🆙\n",
        "* Run the next cell where we are reducing the dataset size by `reduction_factor = 10`. Don't try to increase it unless we ask you to do so..."
      ]
    },
    {
      "cell_type": "code",
      "execution_count": 4,
      "metadata": {
        "id": "wR_JXHmlT2Io",
        "colab": {
          "base_uri": "https://localhost:8080/"
        },
        "outputId": "0284d9de-ca53-4176-ac8f-b9c956e0f981"
      },
      "outputs": [
        {
          "output_type": "stream",
          "name": "stdout",
          "text": [
            "------------------ Before -----------------\n",
            "(50000, 32, 32, 3) (10000, 32, 32, 3)\n",
            "\n",
            "--- After applying the reduction factor ---\n",
            "(5000, 32, 32, 3) (1000, 32, 32, 3)\n",
            "\n",
            "-------------------------------------------\n"
          ]
        },
        {
          "output_type": "execute_result",
          "data": {
            "text/plain": [
              "{0: 533,\n",
              " 1: 499,\n",
              " 2: 503,\n",
              " 3: 470,\n",
              " 4: 491,\n",
              " 5: 510,\n",
              " 6: 540,\n",
              " 7: 461,\n",
              " 8: 525,\n",
              " 9: 468}"
            ]
          },
          "metadata": {},
          "execution_count": 4
        }
      ],
      "source": [
        "# Considering only 1/10th of the 50_000 images\n",
        "reduction_factor = 10\n",
        "\n",
        "# Choosing the random indices of small train set and small test set\n",
        "idx_train =  np.random.choice(len(images_train), round(len(images_train)/reduction_factor), replace=False)\n",
        "idx_test =  np.random.choice(len(images_test), round(len(images_test)/reduction_factor), replace=False)\n",
        "\n",
        "# Collecting the two subsamples images_train_small and images_test_small from images_train and images_test\n",
        "images_train_small = images_train[idx_train]\n",
        "images_test_small = images_test[idx_test]\n",
        "# and their corresponding labels\n",
        "labels_train_small = labels_train[idx_train]\n",
        "labels_test_small = labels_test[idx_test]\n",
        "\n",
        "print(\"------------------ Before -----------------\")\n",
        "print(images_train.shape, images_test.shape)\n",
        "\n",
        "print(\"\")\n",
        "\n",
        "print(\"--- After applying the reduction factor ---\")\n",
        "print(images_train_small.shape, images_test_small.shape)\n",
        "\n",
        "print(\"\")\n",
        "print(\"-\"*43)\n",
        "\n",
        "unique, counts = np.unique(labels_train_small, return_counts=True)\n",
        "dict(zip(unique, counts))"
      ]
    },
    {
      "cell_type": "markdown",
      "metadata": {
        "id": "79M-HvdyZhbc"
      },
      "source": [
        "👇 You are working with images.. so it would be a good idea to have a look at some of them :)"
      ]
    },
    {
      "cell_type": "code",
      "execution_count": 5,
      "metadata": {
        "id": "hQ62jK5VVj03",
        "colab": {
          "base_uri": "https://localhost:8080/",
          "height": 0
        },
        "outputId": "e81953d7-15f3-46e7-cfb0-6691f0ebb280"
      },
      "outputs": [
        {
          "output_type": "display_data",
          "data": {
            "text/plain": [
              "<Figure size 1500x500 with 6 Axes>"
            ],
            "image/png": "[encoded data removed]"
          },
          "metadata": {}
        }
      ],
      "source": [
        "# Let's plot few images to see what they look like\n",
        "import matplotlib.pyplot as plt\n",
        "\n",
        "plt.figure(figsize=(15,5))\n",
        "for i in range(6):\n",
        "    plt.subplot(1,6, i+1)\n",
        "    img = images_train[i]\n",
        "    label = labels_train[i][0]\n",
        "    plt.imshow(img)\n",
        "    plt.title(labels[label])"
      ]
    },
    {
      "cell_type": "markdown",
      "metadata": {
        "id": "3qlCaB_TZhbc"
      },
      "source": [
        "### (1.2) Image preprocesing"
      ]
    },
    {
      "cell_type": "markdown",
      "metadata": {
        "id": "WMG4ttoHVj02"
      },
      "source": [
        "👉 As usual, let's:\n",
        "- normalize the pixels' intensities between 0 and 1\n",
        "- turn the `labels_train` and `labels_test` into \"one-hot-encoded\" targets that we will call respectively `y_train` and `y_test`"
      ]
    },
    {
      "cell_type": "code",
      "execution_count": 6,
      "metadata": {
        "id": "Fm8XRTbiVj02"
      },
      "outputs": [],
      "source": [
        "### Normalizing pixels' intensities\n",
        "X_train = images_train / 255.\n",
        "X_train_small = images_train_small / 255.\n",
        "X_test = images_test / 255.\n",
        "X_test_small = images_test_small / 255.\n",
        "\n",
        "### Encoding the labels\n",
        "from tensorflow.keras.utils import to_categorical\n",
        "y_train = to_categorical(labels_train, 10)\n",
        "y_train_small = to_categorical(labels_train_small, 10)\n",
        "y_test = to_categorical(labels_test, 10)\n",
        "y_test_small = to_categorical(labels_test_small, 10)"
      ]
    },
    {
      "cell_type": "markdown",
      "metadata": {
        "id": "_W9Jbjn6Zhbc"
      },
      "source": [
        "## (2) Iterate on your CNN architecture using your small training set"
      ]
    },
    {
      "cell_type": "markdown",
      "metadata": {
        "id": "ke9YJk7MVj04"
      },
      "source": [
        "\n",
        "\n",
        "\n",
        "❓ **Question** ❓ Time to shine ⭐️⭐️⭐️ !\n",
        "\n",
        "1. Define the CNN architecture of your choice in an `initialize_model()` function:\n",
        "2. Compile your model in a `compile_model()` method:\n",
        "3. Fit your CNN only on the `small training set` and save the training information in an `history` variable\n",
        "---\n",
        "* Feeling lost?\n",
        "* Do you want to improve your performance ?\n",
        "\n",
        "<details>\n",
        "    <summary>🆘 PRO TIPS 🆘</summary>\n",
        "\n",
        "\n",
        "- Do not forget to add the **`input shape`** of your images to the first layer: it has 3 colors\n",
        "- **`Start simple, add complexify later `** after several attempts to get better results\n",
        "- The task is complex: **`Try at least 3 or 4 convolutions`**, you want your **images to go through different magnifying glasses / kernels from different convolutional layers!**\n",
        "- The Kernel Size does not need to be large for such a small picture resolution!\n",
        "- Add some **`MaxPooling2D`** (but not too much, otherwise the activation \"image\" will become too small)\n",
        "- Keep `padding = \"same\"` and `stride = (1,1)` to start with.\n",
        "- Once your model overfits, try to add some **`Dropout Layers` to regularize the network**. A good tip is to **increase the Dropout Rate/Strength as you move closer to the prediction layer** to prevent your CNN from overfitting\n",
        "- Images are so small in CIFAR10, you can afford to use a larger batch size (32 or 64) to benefit even more from **GPU parallelization**!\n",
        "</details>\n",
        "\n",
        "---"
      ]
    },
    {
      "cell_type": "code",
      "execution_count": 7,
      "metadata": {
        "id": "GNOtE5xhVj04"
      },
      "outputs": [],
      "source": [
        "from tensorflow.keras import models, layers\n",
        "\n",
        "def initialize_model():\n",
        "    '''instanciate and return the CNN architecture of your choice with less than 150,000 params'''\n",
        "    # YOUR CODE HERE\n",
        "    model = models.Sequential()\n",
        "\n",
        "    # ARCHITECTURE\n",
        "\n",
        "    model.add(layers.Conv2D(8, activation='relu', kernel_size=(3,3), input_shape=(32,32,3), padding='same'))\n",
        "    model.add(layers.MaxPool2D(pool_size=(2,2)))\n",
        "    model.add(layers.Conv2D(8, activation='relu', kernel_size=(3,3)))\n",
        "    #model.add(layers.MaxPool2D(pool_size=(2,2)))\n",
        "    model.add(layers.Conv2D(16, activation='relu', kernel_size=(3,3)))\n",
        "    model.add(layers.Conv2D(16, activation='relu', kernel_size=(3,3)))\n",
        "    model.add(layers.Dropout(0.3))\n",
        "\n",
        "\n",
        "    model.add(layers.Flatten())\n",
        "    model.add(layers.Dense(32, activation='relu'))\n",
        "    model.add(layers.Dropout(0.3))\n",
        "    model.add(layers.Dense(10, activation='softmax'))\n",
        "\n",
        "    return model"
      ]
    },
    {
      "cell_type": "code",
      "execution_count": 8,
      "metadata": {
        "id": "7C9AL4uBT2Iq"
      },
      "outputs": [],
      "source": [
        "def compile_model(model):\n",
        "    '''return a compiled model suited for the CIFAR-10 task'''\n",
        "    model.compile(\n",
        "        loss='categorical_crossentropy',\n",
        "        optimizer='adam',\n",
        "        metrics='accuracy'\n",
        "    )\n",
        "    return model"
      ]
    },
    {
      "cell_type": "code",
      "source": [
        "from tensorflow.keras import callbacks\n",
        "\n",
        "model = compile_model(initialize_model())\n",
        "\n",
        "es = callbacks.EarlyStopping(patience=30, restore_best_weights=True)\n",
        "\n",
        "history = model.fit(\n",
        "    X_train_small,\n",
        "    y_train_small,\n",
        "    batch_size=64,\n",
        "    validation_split=0.2,\n",
        "    epochs=100,\n",
        "    callbacks=[es]\n",
        ")"
      ],
      "metadata": {
        "colab": {
          "base_uri": "https://localhost:8080/"
        },
        "id": "A2wSbUSQuoDC",
        "outputId": "1f250dfb-0587-417c-881b-d616fa1efeb3"
      },
      "execution_count": 9,
      "outputs": [
        {
          "output_type": "stream",
          "name": "stdout",
          "text": [
            "Epoch 1/100\n",
            "63/63 [==============================] - 7s 20ms/step - loss: 2.2588 - accuracy: 0.1365 - val_loss: 2.1316 - val_accuracy: 0.1970\n",
            "Epoch 2/100\n",
            "63/63 [==============================] - 0s 7ms/step - loss: 2.1124 - accuracy: 0.2177 - val_loss: 2.0128 - val_accuracy: 0.2730\n",
            "Epoch 3/100\n",
            "63/63 [==============================] - 0s 6ms/step - loss: 1.9929 - accuracy: 0.2758 - val_loss: 1.9557 - val_accuracy: 0.2870\n",
            "Epoch 4/100\n",
            "63/63 [==============================] - 0s 6ms/step - loss: 1.9250 - accuracy: 0.2990 - val_loss: 1.8629 - val_accuracy: 0.3110\n",
            "Epoch 5/100\n",
            "63/63 [==============================] - 0s 6ms/step - loss: 1.8353 - accuracy: 0.3375 - val_loss: 1.7690 - val_accuracy: 0.3490\n",
            "Epoch 6/100\n",
            "63/63 [==============================] - 0s 7ms/step - loss: 1.7877 - accuracy: 0.3523 - val_loss: 1.7094 - val_accuracy: 0.3830\n",
            "Epoch 7/100\n",
            "63/63 [==============================] - 0s 7ms/step - loss: 1.7020 - accuracy: 0.3857 - val_loss: 1.6426 - val_accuracy: 0.3960\n",
            "Epoch 8/100\n",
            "63/63 [==============================] - 0s 7ms/step - loss: 1.6718 - accuracy: 0.3993 - val_loss: 1.6473 - val_accuracy: 0.3970\n",
            "Epoch 9/100\n",
            "63/63 [==============================] - 1s 10ms/step - loss: 1.6117 - accuracy: 0.4248 - val_loss: 1.6058 - val_accuracy: 0.4150\n",
            "Epoch 10/100\n",
            "63/63 [==============================] - 0s 8ms/step - loss: 1.5877 - accuracy: 0.4293 - val_loss: 1.6149 - val_accuracy: 0.4070\n",
            "Epoch 11/100\n",
            "63/63 [==============================] - 1s 9ms/step - loss: 1.5620 - accuracy: 0.4285 - val_loss: 1.5842 - val_accuracy: 0.4120\n",
            "Epoch 12/100\n",
            "63/63 [==============================] - 1s 8ms/step - loss: 1.5462 - accuracy: 0.4448 - val_loss: 1.5803 - val_accuracy: 0.4220\n",
            "Epoch 13/100\n",
            "63/63 [==============================] - 1s 11ms/step - loss: 1.5363 - accuracy: 0.4448 - val_loss: 1.6151 - val_accuracy: 0.4330\n",
            "Epoch 14/100\n",
            "63/63 [==============================] - 1s 10ms/step - loss: 1.4799 - accuracy: 0.4610 - val_loss: 1.6092 - val_accuracy: 0.4300\n",
            "Epoch 15/100\n",
            "63/63 [==============================] - 1s 10ms/step - loss: 1.4725 - accuracy: 0.4660 - val_loss: 1.5893 - val_accuracy: 0.4250\n",
            "Epoch 16/100\n",
            "63/63 [==============================] - 0s 7ms/step - loss: 1.4161 - accuracy: 0.4865 - val_loss: 1.5550 - val_accuracy: 0.4330\n",
            "Epoch 17/100\n",
            "63/63 [==============================] - 0s 6ms/step - loss: 1.4125 - accuracy: 0.4830 - val_loss: 1.5606 - val_accuracy: 0.4400\n",
            "Epoch 18/100\n",
            "63/63 [==============================] - 0s 6ms/step - loss: 1.4029 - accuracy: 0.4947 - val_loss: 1.5891 - val_accuracy: 0.4430\n",
            "Epoch 19/100\n",
            "63/63 [==============================] - 0s 7ms/step - loss: 1.3950 - accuracy: 0.4918 - val_loss: 1.5681 - val_accuracy: 0.4430\n",
            "Epoch 20/100\n",
            "63/63 [==============================] - 0s 7ms/step - loss: 1.3526 - accuracy: 0.5110 - val_loss: 1.5740 - val_accuracy: 0.4380\n",
            "Epoch 21/100\n",
            "63/63 [==============================] - 0s 7ms/step - loss: 1.3516 - accuracy: 0.5075 - val_loss: 1.5550 - val_accuracy: 0.4390\n",
            "Epoch 22/100\n",
            "63/63 [==============================] - 0s 6ms/step - loss: 1.3272 - accuracy: 0.5160 - val_loss: 1.6012 - val_accuracy: 0.4360\n",
            "Epoch 23/100\n",
            "63/63 [==============================] - 0s 6ms/step - loss: 1.3247 - accuracy: 0.5145 - val_loss: 1.5607 - val_accuracy: 0.4420\n",
            "Epoch 24/100\n",
            "63/63 [==============================] - 0s 7ms/step - loss: 1.2929 - accuracy: 0.5225 - val_loss: 1.6362 - val_accuracy: 0.4180\n",
            "Epoch 25/100\n",
            "63/63 [==============================] - 0s 6ms/step - loss: 1.2839 - accuracy: 0.5372 - val_loss: 1.5827 - val_accuracy: 0.4290\n",
            "Epoch 26/100\n",
            "63/63 [==============================] - 0s 6ms/step - loss: 1.2690 - accuracy: 0.5405 - val_loss: 1.6109 - val_accuracy: 0.4270\n",
            "Epoch 27/100\n",
            "63/63 [==============================] - 0s 6ms/step - loss: 1.2552 - accuracy: 0.5375 - val_loss: 1.5700 - val_accuracy: 0.4480\n",
            "Epoch 28/100\n",
            "63/63 [==============================] - 0s 6ms/step - loss: 1.2236 - accuracy: 0.5523 - val_loss: 1.6340 - val_accuracy: 0.4380\n",
            "Epoch 29/100\n",
            "63/63 [==============================] - 0s 7ms/step - loss: 1.2248 - accuracy: 0.5527 - val_loss: 1.5992 - val_accuracy: 0.4600\n",
            "Epoch 30/100\n",
            "63/63 [==============================] - 0s 6ms/step - loss: 1.2149 - accuracy: 0.5555 - val_loss: 1.5949 - val_accuracy: 0.4490\n",
            "Epoch 31/100\n",
            "63/63 [==============================] - 0s 6ms/step - loss: 1.1849 - accuracy: 0.5648 - val_loss: 1.6093 - val_accuracy: 0.4410\n",
            "Epoch 32/100\n",
            "63/63 [==============================] - 0s 6ms/step - loss: 1.2115 - accuracy: 0.5602 - val_loss: 1.6412 - val_accuracy: 0.4300\n",
            "Epoch 33/100\n",
            "63/63 [==============================] - 0s 6ms/step - loss: 1.2020 - accuracy: 0.5630 - val_loss: 1.6128 - val_accuracy: 0.4440\n",
            "Epoch 34/100\n",
            "63/63 [==============================] - 0s 6ms/step - loss: 1.1730 - accuracy: 0.5627 - val_loss: 1.6606 - val_accuracy: 0.4390\n",
            "Epoch 35/100\n",
            "63/63 [==============================] - 0s 7ms/step - loss: 1.1421 - accuracy: 0.5778 - val_loss: 1.6442 - val_accuracy: 0.4440\n",
            "Epoch 36/100\n",
            "63/63 [==============================] - 0s 6ms/step - loss: 1.1124 - accuracy: 0.5830 - val_loss: 1.6411 - val_accuracy: 0.4530\n",
            "Epoch 37/100\n",
            "63/63 [==============================] - 0s 7ms/step - loss: 1.0948 - accuracy: 0.5903 - val_loss: 1.6560 - val_accuracy: 0.4510\n",
            "Epoch 38/100\n",
            "63/63 [==============================] - 0s 6ms/step - loss: 1.0939 - accuracy: 0.5950 - val_loss: 1.6713 - val_accuracy: 0.4390\n",
            "Epoch 39/100\n",
            "63/63 [==============================] - 0s 6ms/step - loss: 1.0875 - accuracy: 0.5915 - val_loss: 1.6524 - val_accuracy: 0.4440\n",
            "Epoch 40/100\n",
            "63/63 [==============================] - 1s 9ms/step - loss: 1.0985 - accuracy: 0.5980 - val_loss: 1.6655 - val_accuracy: 0.4430\n",
            "Epoch 41/100\n",
            "63/63 [==============================] - 1s 10ms/step - loss: 1.0725 - accuracy: 0.6037 - val_loss: 1.7020 - val_accuracy: 0.4430\n",
            "Epoch 42/100\n",
            "63/63 [==============================] - 1s 8ms/step - loss: 1.0762 - accuracy: 0.5950 - val_loss: 1.7028 - val_accuracy: 0.4340\n",
            "Epoch 43/100\n",
            "63/63 [==============================] - 1s 8ms/step - loss: 1.0538 - accuracy: 0.6115 - val_loss: 1.6671 - val_accuracy: 0.4400\n",
            "Epoch 44/100\n",
            "63/63 [==============================] - 1s 9ms/step - loss: 1.0393 - accuracy: 0.6095 - val_loss: 1.6840 - val_accuracy: 0.4350\n",
            "Epoch 45/100\n",
            "63/63 [==============================] - 1s 11ms/step - loss: 1.0320 - accuracy: 0.6185 - val_loss: 1.6810 - val_accuracy: 0.4510\n",
            "Epoch 46/100\n",
            "63/63 [==============================] - 1s 10ms/step - loss: 1.0215 - accuracy: 0.6208 - val_loss: 1.6993 - val_accuracy: 0.4350\n",
            "Epoch 47/100\n",
            "63/63 [==============================] - 0s 7ms/step - loss: 0.9718 - accuracy: 0.6417 - val_loss: 1.7232 - val_accuracy: 0.4470\n",
            "Epoch 48/100\n",
            "63/63 [==============================] - 0s 6ms/step - loss: 0.9996 - accuracy: 0.6200 - val_loss: 1.7024 - val_accuracy: 0.4540\n",
            "Epoch 49/100\n",
            "63/63 [==============================] - 0s 7ms/step - loss: 0.9971 - accuracy: 0.6217 - val_loss: 1.8630 - val_accuracy: 0.4340\n",
            "Epoch 50/100\n",
            "63/63 [==============================] - 0s 7ms/step - loss: 0.9950 - accuracy: 0.6152 - val_loss: 1.7630 - val_accuracy: 0.4540\n",
            "Epoch 51/100\n",
            "63/63 [==============================] - 0s 7ms/step - loss: 0.9611 - accuracy: 0.6430 - val_loss: 1.8074 - val_accuracy: 0.4480\n"
          ]
        }
      ]
    },
    {
      "cell_type": "markdown",
      "metadata": {
        "id": "YcPQtVjdVj06"
      },
      "source": [
        "❓ **Question: History of your training** ❓\n",
        "\n",
        "Run the following function on the previous history\n",
        "_(keep the default arguments, these are intended for future plots in the notebook)_"
      ]
    },
    {
      "cell_type": "code",
      "execution_count": 10,
      "metadata": {
        "id": "lIR_L7UfVj06"
      },
      "outputs": [],
      "source": [
        "def plot_history(history, title='', axs=None, exp_name=\"\"):\n",
        "    if axs is not None:\n",
        "        ax1, ax2 = axs\n",
        "    else:\n",
        "        f, (ax1, ax2) = plt.subplots(1, 2, figsize=(12, 4))\n",
        "\n",
        "    if len(exp_name) > 0 and exp_name[0] != '_':\n",
        "        exp_name = '_' + exp_name\n",
        "    ax1.plot(history.history['loss'], label = 'train' + exp_name)\n",
        "    ax1.plot(history.history['val_loss'], label = 'val' + exp_name)\n",
        "    ax1.set_ylim(0., 2.2)\n",
        "    ax1.set_title('loss')\n",
        "    ax1.legend()\n",
        "\n",
        "    ax2.plot(history.history['accuracy'], label='train accuracy'  + exp_name)\n",
        "    ax2.plot(history.history['val_accuracy'], label='val accuracy'  + exp_name)\n",
        "    ax2.set_ylim(0.25, 1.)\n",
        "    ax2.set_title('Accuracy')\n",
        "    ax2.legend()\n",
        "    return (ax1, ax2)"
      ]
    },
    {
      "cell_type": "code",
      "execution_count": 11,
      "metadata": {
        "id": "bDxbLDt2Vj07",
        "tags": [
          "challengify"
        ],
        "colab": {
          "base_uri": "https://localhost:8080/",
          "height": 0
        },
        "outputId": "718fd1d6-e326-438f-c996-ad262c606313"
      },
      "outputs": [
        {
          "output_type": "display_data",
          "data": {
            "text/plain": [
              "<Figure size 1200x400 with 2 Axes>"
            ],
            "image/png": "[encoded data removed]"
          },
          "metadata": {}
        }
      ],
      "source": [
        "plot_history(history);"
      ]
    },
    {
      "cell_type": "markdown",
      "metadata": {
        "id": "OR7l9LxMVj07"
      },
      "source": [
        "❓ **Question: Evaluating your CNN** ❓\n",
        "\n",
        "* Evaluate your model on the test data and compare it with a baseline accuracy.\n",
        "* Are you satisfied with this performance?\n",
        "* Look at the `PRO TIPS` above and iterate a bit if you want to improve your performance!"
      ]
    },
    {
      "cell_type": "code",
      "execution_count": 12,
      "metadata": {
        "id": "WwnwvmV5Vj08",
        "tags": [
          "challengify"
        ],
        "colab": {
          "base_uri": "https://localhost:8080/"
        },
        "outputId": "03f653e9-216f-4f86-9376-0c784408f7e0"
      },
      "outputs": [
        {
          "output_type": "stream",
          "name": "stdout",
          "text": [
            "32/32 [==============================] - 0s 9ms/step - loss: 1.5396 - accuracy: 0.4400\n"
          ]
        },
        {
          "output_type": "execute_result",
          "data": {
            "text/plain": [
              "[1.539626121520996, 0.4399999976158142]"
            ]
          },
          "metadata": {},
          "execution_count": 12
        }
      ],
      "source": [
        "model.evaluate(X_test_small, y_test_small)"
      ]
    },
    {
      "cell_type": "markdown",
      "metadata": {
        "id": "z7P9y-LwVjdx"
      },
      "source": [
        "## (3) Increase the size of your training data"
      ]
    },
    {
      "cell_type": "markdown",
      "metadata": {
        "id": "UMHH_qsbVT_0"
      },
      "source": [
        "❓ **Question: train your model on the full dataset** ❓\n",
        "\n",
        "- Switch to **Colab** if you haven't done it before\n",
        "- Make sure to use the **GPU acceleration** by clicking on `Runtime` $\\rightarrow$ `Change runtime` $\\rightarrow$ `GPU`\n",
        "\n",
        "💡 Training neural networks on images (in each batch) can be parallelized, and this **`parallelization procedure`** can be done on **`GPU`**.\n",
        "\n",
        "---"
      ]
    },
    {
      "cell_type": "markdown",
      "metadata": {
        "id": "BFMcHMwfZhbh"
      },
      "source": [
        "You should observe significant performance improvement\n",
        "\n",
        "Welcome to the Deep Learning paradigm, where big data makes a significant difference.\n",
        "\n",
        "But what happens if I can access only a limited amount of pictures? Think about biologists studying rare species. What can they do?\n",
        "* To improve the accuracy of a model without much work, we can **generate new data**.\n",
        "* The process is called... ⭐️ **`Data Augmentation`** ⭐️ !\n",
        "</details>"
      ]
    },
    {
      "cell_type": "code",
      "source": [
        "model = compile_model(initialize_model())\n",
        "\n",
        "es = callbacks.EarlyStopping(patience=30, restore_best_weights=True)\n",
        "\n",
        "history = model.fit(\n",
        "    X_train,\n",
        "    y_train,\n",
        "    batch_size=64,\n",
        "    validation_split=0.2,\n",
        "    epochs=100,\n",
        "    callbacks=[es]\n",
        ")\n",
        "\n",
        "plot_history(history);\n",
        "model.evaluate(X_test_small, y_test_small)\n"
      ],
      "metadata": {
        "colab": {
          "base_uri": "https://localhost:8080/"
        },
        "id": "pGCmbBAk0lLe",
        "outputId": "99505129-0ef6-4fa1-87e8-300796ce80d0"
      },
      "execution_count": null,
      "outputs": [
        {
          "output_type": "stream",
          "name": "stdout",
          "text": [
            "Epoch 1/100\n",
            "625/625 [==============================] - 6s 7ms/step - loss: 1.8729 - accuracy: 0.3021 - val_loss: 1.5797 - val_accuracy: 0.4355\n",
            "Epoch 2/100\n",
            "625/625 [==============================] - 5s 8ms/step - loss: 1.6119 - accuracy: 0.4086 - val_loss: 1.4800 - val_accuracy: 0.4746\n",
            "Epoch 3/100\n",
            "625/625 [==============================] - 3s 5ms/step - loss: 1.5251 - accuracy: 0.4444 - val_loss: 1.3783 - val_accuracy: 0.5039\n",
            "Epoch 4/100\n",
            "625/625 [==============================] - 4s 6ms/step - loss: 1.4673 - accuracy: 0.4688 - val_loss: 1.3336 - val_accuracy: 0.5264\n",
            "Epoch 5/100\n",
            "625/625 [==============================] - 4s 6ms/step - loss: 1.4225 - accuracy: 0.4862 - val_loss: 1.2709 - val_accuracy: 0.5440\n",
            "Epoch 6/100\n",
            "625/625 [==============================] - 5s 7ms/step - loss: 1.3838 - accuracy: 0.5021 - val_loss: 1.2800 - val_accuracy: 0.5433\n",
            "Epoch 7/100\n",
            "625/625 [==============================] - 3s 5ms/step - loss: 1.3637 - accuracy: 0.5103 - val_loss: 1.2507 - val_accuracy: 0.5548\n",
            "Epoch 8/100\n",
            "625/625 [==============================] - 4s 6ms/step - loss: 1.3380 - accuracy: 0.5200 - val_loss: 1.2242 - val_accuracy: 0.5665\n",
            "Epoch 9/100\n",
            "625/625 [==============================] - 4s 7ms/step - loss: 1.3202 - accuracy: 0.5263 - val_loss: 1.2043 - val_accuracy: 0.5723\n",
            "Epoch 10/100\n",
            "625/625 [==============================] - 4s 6ms/step - loss: 1.3039 - accuracy: 0.5327 - val_loss: 1.1714 - val_accuracy: 0.5845\n",
            "Epoch 11/100\n",
            "625/625 [==============================] - 3s 5ms/step - loss: 1.2769 - accuracy: 0.5426 - val_loss: 1.2227 - val_accuracy: 0.5712\n",
            "Epoch 12/100\n",
            "625/625 [==============================] - 3s 5ms/step - loss: 1.2653 - accuracy: 0.5484 - val_loss: 1.1796 - val_accuracy: 0.5893\n",
            "Epoch 13/100\n",
            "625/625 [==============================] - 4s 7ms/step - loss: 1.2434 - accuracy: 0.5552 - val_loss: 1.1436 - val_accuracy: 0.6010\n",
            "Epoch 14/100\n",
            "625/625 [==============================] - 4s 6ms/step - loss: 1.2272 - accuracy: 0.5589 - val_loss: 1.1262 - val_accuracy: 0.6009\n",
            "Epoch 15/100\n",
            "625/625 [==============================] - 3s 5ms/step - loss: 1.2142 - accuracy: 0.5647 - val_loss: 1.1439 - val_accuracy: 0.5899\n",
            "Epoch 16/100\n",
            "625/625 [==============================] - 4s 6ms/step - loss: 1.2033 - accuracy: 0.5697 - val_loss: 1.1301 - val_accuracy: 0.6048\n",
            "Epoch 17/100\n",
            "625/625 [==============================] - 5s 8ms/step - loss: 1.1927 - accuracy: 0.5744 - val_loss: 1.1052 - val_accuracy: 0.6113\n",
            "Epoch 18/100\n",
            "625/625 [==============================] - 4s 6ms/step - loss: 1.1839 - accuracy: 0.5776 - val_loss: 1.1031 - val_accuracy: 0.6167\n",
            "Epoch 19/100\n",
            "625/625 [==============================] - 4s 6ms/step - loss: 1.1718 - accuracy: 0.5816 - val_loss: 1.1017 - val_accuracy: 0.6121\n",
            "Epoch 20/100\n",
            " 87/625 [===>..........................] - ETA: 2s - loss: 1.1690 - accuracy: 0.5810"
          ]
        }
      ]
    },
    {
      "cell_type": "code",
      "source": [
        "model.evaluate(X_test, y_test)"
      ],
      "metadata": {
        "id": "ZyuqeSJE4Cpv"
      },
      "execution_count": null,
      "outputs": []
    },
    {
      "cell_type": "markdown",
      "metadata": {
        "id": "RIBg-oEkZhbh"
      },
      "source": [
        "## (4) 🎁📚 Data augmentation"
      ]
    },
    {
      "cell_type": "markdown",
      "metadata": {
        "id": "BjDY76NBqgaE"
      },
      "source": [
        "> ℹ️ This section contains questions and the answers are also provided. Read them carefully before moving on to the `Transfer Learning` challenge.\n",
        "\n",
        "> 👨🏻‍🏫 If you do not have time to do the `Transfer Learning` challenge, don't worry, we can talk about it during the Recap session, we are aware that this unit about Convolutional Neural Networks is quite packed... but also one of the most exciting applications of Deep Learning ❤️"
      ]
    },
    {
      "cell_type": "markdown",
      "metadata": {
        "id": "HmPinqUzZhbh"
      },
      "source": [
        "* 👩🏻‍🏫 <b><u>Data Augmentation</u></b>\n",
        "    * This technique is widely-used and consists of applying little transformations to the input images without changing their labels: ***mirroring***, ***cropping***, ***intensity changes***, etc...\n",
        "    * The _improved performance_ simply results from the CNN training with more images (the original pictures + the \"augmented\" ones).\n",
        "    \n",
        "\n",
        "* 👉 <b><u>Theoretically:</u></b>\n",
        "    * (1) We could generate these new images by applying some transformations on copies of the original pictures\n",
        "    * (2) Train the model on the original images + new images.\n",
        "    \n",
        "    \n",
        "* 🚨  <b><u>Problem:</u></b>\n",
        "    * Such a procedure requires storing all these images in memory...\n",
        "    * It can be very intensive, so much so that your computer's RAM cannot hold them all\n",
        "    \n",
        "    \n",
        "* 🦄 <b><u>In Practice:</u></b>\n",
        "    * When a Neural Network operates a forward/backward propagation, it requires to see only 16 pictures at a time if you chose $ batch size = 16 $ for example. It doesn't need to store all the original images or the augmented images in the RAM.\n",
        "    * For this reason, we will **augment the data on the fly (batch per batch)**. What does that mean? For every epoch and every batch, during the ***.fit()*** training procedure, we will:\n",
        "        1. Generate some `augmented data/images`\n",
        "        2. Fit the model on the images and their augmented versions\n",
        "        3. Delete the images and their augmented versions from the RAM\n",
        "        4. Repeat steps 1-2-3\n",
        "        \n",
        "* 📚 <a href= \"https://www.tensorflow.org/api_docs/python/tf/keras/preprocessing/image/ImageDataGenerator\"><b><u>tf/keras/preprocessing/image/ImageDataGenerator</u></b></a>"
      ]
    },
    {
      "cell_type": "markdown",
      "metadata": {
        "id": "wk8ZZVunVj08"
      },
      "source": [
        "❓ **Question: using an ImageDataGenerator** ❓\n",
        "\n",
        "Look at the following code down below 👇\n",
        "* The general syntax may look strange but don't worry:\n",
        "    * First, focus on the arguments of the *ImageDataGenerator* which define the augmentation techniques that we are using\n",
        "    * Then, check the 📚 <a href=\"https://www.tensorflow.org/api_docs/python/tf/keras/preprocessing/image/ImageDataGenerator\">**`ImageDataGenerator`**</a> documentation later\n"
      ]
    },
    {
      "cell_type": "code",
      "execution_count": null,
      "metadata": {
        "id": "DlOpbos5Vj09"
      },
      "outputs": [],
      "source": [
        "from tensorflow.keras.preprocessing.image import ImageDataGenerator\n",
        "\n",
        "datagen = ImageDataGenerator(\n",
        "    featurewise_center = False,\n",
        "    featurewise_std_normalization = False,\n",
        "    rotation_range = 10,\n",
        "    width_shift_range = 0.1,\n",
        "    height_shift_range = 0.1,\n",
        "    horizontal_flip = True,\n",
        "    zoom_range = (0.8, 1.2),\n",
        "    )\n",
        "\n",
        "datagen.fit(X_train)\n",
        "datagen"
      ]
    },
    {
      "cell_type": "code",
      "execution_count": null,
      "metadata": {
        "id": "Zcl17dW1aA0G"
      },
      "outputs": [],
      "source": [
        "X_augmented_iterator = datagen.flow(X_train, shuffle=False, batch_size=1)\n",
        "X_augmented_iterator"
      ]
    },
    {
      "cell_type": "markdown",
      "metadata": {
        "id": "RdMqg8grVj09"
      },
      "source": [
        "❗️ Always **visualize the augmented images** in order to double-check whether you can still recognize the labels yourself or not ❗️"
      ]
    },
    {
      "cell_type": "code",
      "execution_count": null,
      "metadata": {
        "id": "IsqMF0adVj09"
      },
      "outputs": [],
      "source": [
        "import numpy as np\n",
        "\n",
        "for i, (raw_image, augmented_image) in enumerate(zip(X_train, X_augmented_iterator)):\n",
        "    _, (ax1, ax2) = plt.subplots(1, 2, figsize=(6, 2))\n",
        "    ax1.imshow(raw_image)\n",
        "    ax2.imshow(augmented_image[0])\n",
        "    plt.show()\n",
        "\n",
        "    if i > 10:\n",
        "        break"
      ]
    },
    {
      "cell_type": "markdown",
      "metadata": {
        "id": "LyLlJQrKVj09"
      },
      "source": [
        "❗ **Remarks** ❗\n",
        "\n",
        "* Each image from **`X_augmented_iterator`** is an ***augmented image*** of one image located in the original `X_train` image dataset\n",
        "* This augmentation process is done once per epoch.\n",
        "* During one epoch, the model will:\n",
        "    1. *create the augmented version* of each picture from `X_train`,\n",
        "    2. for each image of `X_train`, *the model will randomly pick either the original version in `X_train` or its augmented version in `X_augmented_iterator`*\n",
        "    3. and the model will be *fitted on the combination of some original images + some augmented images*\n",
        "\n",
        "---\n",
        "\n"
      ]
    },
    {
      "cell_type": "markdown",
      "metadata": {
        "id": "ZCKCFU-KZhbj"
      },
      "source": [
        "❓ **Question: what is the validation set when we have augmented images** ❓\n",
        "\n",
        "* Previously, we used the `validation_split` argument to let the model separate the training set into a Train/Validation split when fitting the model for each epoch.\n",
        "* It is not possible to use this kind of Train/Val Split here as **using an image in the training set and its transformation in the validation set is considered `data leakage`** !.\n",
        "* Therefore, we have to define the **`validation_data`** manually with the following commands: take time to understand the cell down below:👇\n"
      ]
    },
    {
      "cell_type": "code",
      "execution_count": null,
      "metadata": {
        "id": "lYOkY7LOVj09"
      },
      "outputs": [],
      "source": [
        "from tensorflow.keras.callbacks import EarlyStopping\n",
        "\n",
        "# The model\n",
        "model_aug = initialize_model()\n",
        "model_aug = compile_model(model_aug)\n",
        "\n",
        "# The data generator\n",
        "X_tr = X_train[:40000]\n",
        "y_tr = y_train[:40000]\n",
        "X_val = X_train[40000:]\n",
        "y_val = y_train[40000:]\n",
        "train_flow = datagen.flow(X_tr, y_tr, batch_size = 64)\n",
        "\n",
        "# The early stopping criterion\n",
        "es = EarlyStopping(patience = 3)\n",
        "\n",
        "# The fit\n",
        "history_aug = model_aug.fit(train_flow,\n",
        "                        epochs = 50,\n",
        "                        callbacks = [es],\n",
        "                        validation_data = (X_val, y_val))\n"
      ]
    },
    {
      "cell_type": "markdown",
      "metadata": {
        "id": "NmQ9t_cMVj0-"
      },
      "source": [
        "🚨 The training can be quite long here...\n",
        "\n",
        "👉 Feel free to move on to the next exercise and come back to this notebook later to finish the last questions"
      ]
    },
    {
      "cell_type": "markdown",
      "metadata": {
        "id": "NSLb7gWRZhbj"
      },
      "source": [
        "❓ **Question: How did the model with an augmented dataset perform?** ❓\n",
        "\n",
        "Let's plot the previous and current run histories. What do you think of the data augmentation?"
      ]
    },
    {
      "cell_type": "code",
      "execution_count": null,
      "metadata": {
        "id": "o9r4Fau2Vj0-",
        "tags": [
          "challengify"
        ]
      },
      "outputs": [],
      "source": [
        "# YOUR CODE HERE"
      ]
    },
    {
      "cell_type": "markdown",
      "metadata": {
        "id": "Jm055RyNVj0-"
      },
      "source": [
        "🥡 <b><u>Some takeaways from Data Augmentation:</u></b>\n",
        "\n",
        "* Data augmentation may not improve your performance easily...\n",
        "\n",
        "* Here it even decreased the performance!\n",
        "\n",
        "* Its impact strongly depends on:\n",
        "    * the model architecture you used\n",
        "    * the learning rate,\n",
        "    * the type of augmentation chosen, etc...\n",
        "\n",
        "* Image classification is an art that requires months and years of practice to master!\n",
        "\n",
        "🚨 **Don't spend too much time trying to finetune your model for the moment!  You have other interesting challenges to investigate!** 🚨\n",
        "\n",
        "📚 [Here is a good example of a solution for future reference](https://machinelearningmastery.com/how-to-develop-a-cnn-from-scratch-for-cifar-10-photo-classification/).<br>\n",
        "They managed to reach an accuracy level of approx. 80%!"
      ]
    },
    {
      "cell_type": "markdown",
      "metadata": {
        "id": "Oy4DCYLGVj0-"
      },
      "source": [
        "---\n",
        "\n",
        "🏁 **Congratulations** 🏁\n",
        "\n",
        "1. Download this notebook from your `Google Drive` or directly from `Google Colab`\n",
        "2. Drag-and-drop it from your `Downloads` folder to your local challenge folder  \n",
        "\n",
        "\n",
        "💾 Don't forget to push your code\n",
        "\n",
        "3. Follow the usual procedure on your terminal, inside the challenge folder:\n",
        "      * *git add cifar_classification.ipynb*\n",
        "      * *git commit -m \"I am the god of CNNs\"*\n",
        "      * *git push origin master*\n",
        "\n",
        "*Hint*: To find where this Colab notebook has been saved, click on `File` $\\rightarrow$ `Locate in Drive`.\n",
        "\n",
        "🚀 It is time to move on to the **Transfer Learning** challenge!"
      ]
    }
  ],
  "metadata": {
    "kernelspec": {
      "display_name": "Python 3",
      "name": "python3"
    },
    "colab": {
      "provenance": [],
      "gpuType": "T4",
      "include_colab_link": true
    },
    "accelerator": "GPU"
  },
  "nbformat": 4,
  "nbformat_minor": 0
}